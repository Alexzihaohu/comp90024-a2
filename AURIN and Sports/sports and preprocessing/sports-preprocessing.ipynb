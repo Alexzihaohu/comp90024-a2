{
 "cells": [
  {
   "cell_type": "code",
   "execution_count": 338,
   "id": "82fd535b",
   "metadata": {},
   "outputs": [],
   "source": [
    "sports=['wrestling', 'weight-lifting', 'skiing', 'water polo', 'volleyball', 'tennis', 'team handball',\"steer wrestling\", 'table tennis', 'swimming', 'surfing', 'sprinting', 'skating', 'soccer', 'shooting', 'rugby', 'rowing', 'rodeo', 'racquetball', 'squash', 'pole vault', 'run', 'martial arts', 'jumps', 'lacrosse', 'jump', 'gymnastics', 'golf', 'football', 'fishing', 'fencing', 'equestrian', 'diving', 'running', 'cycling', 'curling', 'cheerleading', 'canoe', 'kayak', 'bull', 'bareback', 'bronc riding', 'boxing', 'bowling', 'bobsledding', 'luge', 'billiards', 'basketball', 'baseball', 'softball', 'badminton', 'racing', 'archery','jog',\n",
    "'afl', 'f1', 'hockey', 'skateboard', 'ran', 'footy', 'bicycle', 'bike', 'gokart', 'laser tag', 'paintball', 'kendo', 'martial arts', 'ping pong', 'muay thai', 'judo',\n",
    "'karate', 'snorkel', 'pool', 'taekwondo', 'walk', 'hiking',\"hike\"]"
   ]
  },
  {
   "cell_type": "code",
   "execution_count": 339,
   "id": "3c611279",
   "metadata": {},
   "outputs": [],
   "source": [
    "toughSports =['boxing', 'hockey', 'football', 'basketball', 'wrestling', 'martial arts', 'tennis', 'gymnastics', 'baseball', 'soccer', 'skiing', 'water polo', 'rugby', 'lacrosse', 'steer wrestling', 'pole vault', \n",
    "              'skating', 'cycling', 'volleyball', 'squash', 'surfing', 'fencing', 'team handball', 'bobsledding', 'badminton', \n",
    "              'racing', 'jump', 'jumps', 'diving', 'swimming', 'skateboard', 'rowing', 'calf roping', 'bull riding', \n",
    "              'bareback riding', 'bronc riding', 'distance track and field', 'weight-lifting', 'table tennis', 'weights track and field', 'canoe', 'kayak'\n",
    "              , 'golf', 'cheerleading', 'equestrian', 'archery', 'curling', 'bowling', 'shooting', 'billiards', 'fishing']"
   ]
  },
  {
   "cell_type": "code",
   "execution_count": 340,
   "id": "e346fc90",
   "metadata": {},
   "outputs": [],
   "source": [
    "#print(set(sports)^set(toughSports))\n",
    "toughSports.insert((toughSports.index(\"racing\")+1),\"rodeo\")\n",
    "toughSports.insert((toughSports.index(\"rodeo\")+1),\"f1\")\n",
    "toughSports.insert((toughSports.index(\"f1\")+1),\"gokart\")\n",
    "toughSports.insert((toughSports.index(\"squash\")+1),\"racquetball\")\n",
    "toughSports.insert((toughSports.index(\"skiing\")+1),\"luge\")\n",
    "toughSports.insert((toughSports.index(\"baseball\")+1),\"softball\")\n",
    "toughSports.insert((toughSports.index(\"football\")+1),\"afl\")\n",
    "toughSports.insert((toughSports.index(\"afl\")+1),\"footy\")\n",
    "toughSports.insert((toughSports.index(\"cycling\")+1),\"bicycle\")\n",
    "toughSports.insert((toughSports.index(\"bicycle\")+1),\"bike\")\n",
    "toughSports.insert((toughSports.index(\"pole vault\")+1),\"kendo\")\n",
    "toughSports.insert((toughSports.index(\"kendo\")+1),\"muay thai\")\n",
    "toughSports.insert((toughSports.index(\"muay thai\")+1),\"judo\")\n",
    "toughSports.insert((toughSports.index(\"judo\")+1),\"karate\")\n",
    "toughSports.insert((toughSports.index(\"karate\")+1),\"taekwondo\")\n",
    "\n",
    "\n",
    "add_sports=[\"paintball\",\"laser tag\",\"ping pong\",\"sprint\",\"hike\",\"hiking\",\"run\",\"ran\",\"walk\",\"jog\"]\n",
    "for s in add_sports:\n",
    "    toughSports.append(s)"
   ]
  },
  {
   "cell_type": "code",
   "execution_count": 341,
   "id": "c4d2f529",
   "metadata": {},
   "outputs": [],
   "source": [
    "sports.index(\"bull\")\n",
    "sports.remove(\"bull\")\n",
    "sports.insert(41,\"bull riding\")"
   ]
  },
  {
   "cell_type": "code",
   "execution_count": 342,
   "id": "697d9a88",
   "metadata": {},
   "outputs": [],
   "source": [
    "sports.index(\"bareback\")\n",
    "sports.remove(\"bareback\")\n",
    "sports.insert(42,\"bareback riding\")"
   ]
  },
  {
   "cell_type": "code",
   "execution_count": 343,
   "id": "7feab7a0",
   "metadata": {},
   "outputs": [],
   "source": [
    "sports.index(\"sprinting\")\n",
    "sports.remove(\"sprinting\")\n",
    "sports.insert(10,\"sprint\")"
   ]
  },
  {
   "cell_type": "code",
   "execution_count": 344,
   "id": "ccd4c588",
   "metadata": {},
   "outputs": [],
   "source": [
    "sports.remove(\"running\")\n",
    "sports.remove(\"snorkel\")\n",
    "sports.remove(\"pool\")\n",
    "\n"
   ]
  },
  {
   "cell_type": "code",
   "execution_count": null,
   "id": "abd74b9e",
   "metadata": {},
   "outputs": [],
   "source": []
  },
  {
   "cell_type": "code",
   "execution_count": 345,
   "id": "ddcbce75",
   "metadata": {},
   "outputs": [
    {
     "name": "stdout",
     "output_type": "stream",
     "text": [
      "calf roping\n",
      "distance track and field\n",
      "weights track and field\n"
     ]
    }
   ],
   "source": [
    "#c=[sport for sport in (sport+toughSports) if sport not in toughSports]\n",
    "add=[]\n",
    "for sport in (sports+toughSports):\n",
    "    if sport not in sports:\n",
    "        print(sport)\n",
    "\n",
    "    "
   ]
  },
  {
   "cell_type": "code",
   "execution_count": 353,
   "id": "281c1a0f",
   "metadata": {},
   "outputs": [],
   "source": [
    "#toughSports=['boxing', 'hockey', 'football', 'afl', 'footy', 'basketball', 'wrestling', 'martial arts', 'tennis', 'gymnastics', 'baseball', 'softball', 'soccer', 'skiing', 'luge', 'water polo', 'rugby', 'lacrosse', 'steer wrestling', 'pole vault', 'kendo', 'muay thai', 'judo', 'karate', 'taekwondo', 'skating', 'cycling', 'bicycle', 'bike', 'volleyball', 'squash', 'racquetball', 'surfing', 'fencing', 'team handball', 'bobsledding', 'badminton', 'racing', 'rodeo', 'f1', 'gokart', 'jump', 'jumps', 'diving', 'swimming', 'skateboard', 'rowing', 'calf roping', 'bull riding', 'bareback riding', 'bronc riding', 'distance track and field', 'weight-lifting', 'table tennis', 'weights track and field', 'canoe', 'kayak', 'golf', 'cheerleading', 'equestrian', 'archery', 'curling', 'bowling', 'shooting', 'billiards', 'fishing', 'paintball', 'laser tag', 'ping pong', 'sprint', 'hike', 'hiking', 'run', 'ran', 'walk', 'jog']"
   ]
  },
  {
   "cell_type": "code",
   "execution_count": 352,
   "id": "4931b7d9",
   "metadata": {},
   "outputs": [
    {
     "data": {
      "text/plain": [
       "76"
      ]
     },
     "execution_count": 352,
     "metadata": {},
     "output_type": "execute_result"
    }
   ],
   "source": [
    "len(toughSports)\n"
   ]
  },
  {
   "cell_type": "code",
   "execution_count": 348,
   "id": "1ebddebc",
   "metadata": {},
   "outputs": [],
   "source": [
    "rank=list(range(1,77))"
   ]
  },
  {
   "cell_type": "code",
   "execution_count": 350,
   "id": "51b85171",
   "metadata": {},
   "outputs": [],
   "source": [
    "rank=[76, 75, 74, 73, 72, 71, 70, 69, 68, 67, 66, 65, 64, 63, 62, 61, 60, 59, 58, 57, 56, 55, 54, 53, 52, 51, 50, 49, 48, 47, 46, 45, 44, 43, 42, 41, 40, 39, 38, 37, 36, 35, 34, 33, 32, 31, 30, 29, 28, 27, 26, 25, 24, 23, 22, 21, 20, 19, 18, 17, 16, 15, 14, 13, 12, 11, 10, 9, 8, 7, 6, 5, 4, 3, 2, 1]"
   ]
  },
  {
   "cell_type": "code",
   "execution_count": null,
   "id": "ea35ac4a",
   "metadata": {},
   "outputs": [],
   "source": []
  },
  {
   "cell_type": "code",
   "execution_count": null,
   "id": "2a3638f2",
   "metadata": {},
   "outputs": [],
   "source": []
  },
  {
   "cell_type": "code",
   "execution_count": null,
   "id": "5c4972a3",
   "metadata": {},
   "outputs": [],
   "source": []
  },
  {
   "cell_type": "code",
   "execution_count": null,
   "id": "4669f2eb",
   "metadata": {},
   "outputs": [],
   "source": []
  }
 ],
 "metadata": {
  "kernelspec": {
   "display_name": "Python 3",
   "language": "python",
   "name": "python3"
  },
  "language_info": {
   "codemirror_mode": {
    "name": "ipython",
    "version": 3
   },
   "file_extension": ".py",
   "mimetype": "text/x-python",
   "name": "python",
   "nbconvert_exporter": "python",
   "pygments_lexer": "ipython3",
   "version": "3.8.3"
  }
 },
 "nbformat": 4,
 "nbformat_minor": 5
}
